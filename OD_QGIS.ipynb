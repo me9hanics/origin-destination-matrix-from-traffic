{
 "cells": [
  {
   "cell_type": "markdown",
   "metadata": {},
   "source": [
    "From this: https://github.com/kahlulz/Olongapo-City-Hospital-Network-Analysis\n",
    "\n",
    "The following processes were performed to conduct the case study:\n",
    "\n",
    "1) Data Collection: Relevant data on hospital locations using the Department of Health - National Health Facility Registry (DOH - NHFR), road networks from OpenStreetMap, and population distribution were collected.\n",
    "\n",
    "2) Data Preparation: The collected data is cleaned, processed, and transformed into suitable formats for analysis. Geospatial data such as hospital coordinates and road networks were prepared by the author for use in QGIS.\n",
    "\n",
    "3) Spatial Analysis: QGIS is utilized to conduct spatial analysis. Hospital locations were mapped, and distance-based calculations were performed using QNEAT3 OD Matrix Calculation.\n",
    "\n",
    "4) Geotagging Automation: Python script was used to automate geotagging since this case study is envisioned to be implemented at a larger scale in the future – automated geotagging would make the process of collecting longitude and latitude pairs of hospitals locations more efficient.\n",
    "\n",
    "5) Analysis and Recommendations: The results were interpreted to understand hospital accessibility patterns and identify areas with limited access to healthcare facilities. Based on the analysis, recommendations for new hospital locations or expansion of existing ones are proposed to improve accessibility.\n",
    "\n"
   ]
  },
  {
   "cell_type": "markdown",
   "metadata": {},
   "source": [
    "So plan is: Take the data that we have of roads (Hungary), then prepare it for QGIS, and then run the QNEAT3 OD Matrix Calculation to get the OD Matrix, which then we will use for comparison"
   ]
  }
 ],
 "metadata": {
  "language_info": {
   "name": "python"
  }
 },
 "nbformat": 4,
 "nbformat_minor": 2
}
