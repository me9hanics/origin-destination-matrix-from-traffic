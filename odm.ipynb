{
 "cells": [
  {
   "cell_type": "markdown",
   "metadata": {},
   "source": [
    "Origin-destination matrix estimation"
   ]
  },
  {
   "cell_type": "markdown",
   "metadata": {},
   "source": [
    "Possibly useful for constructing P matrix: probability of going through edges when moving from A to B\n",
    "\n",
    "- https://openrouteservice.org/services/  (e.g. nearest)\n",
    "- Google Maps API, maybe Google Distance Matrix API, maybe Google Geotagging API\n",
    "- https://www.opentripplanner.org/ (Helps: https://github.com/jeromemayaud/OpenTripPlanner-OD-matrix)\n",
    "Directions API: Directions between multiple locations, Distance Matrix API: Travel times and distances between locations<br>\n",
    "Routes API: Performance optimized versions of the Directions and Distance Matrix APIs<br>\n",
    "Roads API: Snap-to-road functionality to accurately trace GPS breadcrumbs.  maybe Places API\n",
    "\n",
    "\"QNEAT3 OD Matrix Calculation\": https://github.com/kahlulz/Olongapo-City-Hospital-Network-Analysis<br>\n",
    "Spatial Analysis: QGIS is utilized to conduct spatial analysis. Hospital locations were mapped, and distance-based calculations were performed using QNEAT3 OD Matrix Calculation. <br>\n",
    "https://gis.stackexchange.com/questions/403556/what-unit-is-represented-by-od-matix-costs-in-qneat3-within-qgis-3-6-noosa?newreg=400dd6f344ab480a959ecfc8002019b9 <br>\n",
    "https://root676.github.io/OdMatrixAlgs.html <br>\n",
    "https://www.qgistutorials.com/en/docs/3/origin_destination_matrix.html"
   ]
  },
  {
   "cell_type": "code",
   "execution_count": null,
   "metadata": {},
   "outputs": [],
   "source": [
    "import map_functions\n",
    "\n",
    "import geopandas as gpd\n",
    "import pandas as pd\n",
    "import matplotlib.pyplot as plt\n",
    "import numpy as np\n",
    "\n",
    "gdf = gpd.read_file(\"data/sources/Hungary_2022_static_road_data.geojson\")"
   ]
  },
  {
   "cell_type": "markdown",
   "metadata": {},
   "source": [
    "## P Matrix: paths with Google"
   ]
  },
  {
   "cell_type": "code",
   "execution_count": null,
   "metadata": {},
   "outputs": [],
   "source": [
    "import json\n",
    "key = json.loads(open('keys.json').read())[\"\"]"
   ]
  },
  {
   "cell_type": "code",
   "execution_count": null,
   "metadata": {},
   "outputs": [
    {
     "name": "stdout",
     "output_type": "stream",
     "text": [
      "Route 1:\n",
      "Head <b>southwest</b> on <b>Alkotmány u.</b>\n",
      "Turn <b>left</b>\n",
      "Turn <b>right</b> at <b>Orgona u.</b>\n",
      "Turn <b>right</b>\n",
      "Turn <b>left</b>\n",
      "Continue onto <b>Szabadság út</b>\n",
      "Turn <b>right</b> onto <b>Jókai u.</b><div style=\"font-size:0.9em\">Destination will be on the right</div>\n",
      "\n",
      "\n",
      "\n",
      "Route 2:\n",
      "Head <b>northeast</b> on <b>Alkotmány u.</b> toward <b>Damjanich u.</b>\n",
      "Turn <b>right</b> onto <b>Damjanich u.</b>\n",
      "Turn <b>left</b> onto <b>Szolnoki u.</b>\n",
      "Continue onto <b>Kertalja u.</b>\n",
      "Turn <b>right</b> onto <b>Fő u.</b>/<wbr/><b>Route 1</b><div style=\"font-size:0.9em\">Continue to follow Route 1</div>\n",
      "At the roundabout, take the <b>3rd</b> exit and stay on <b>Route 1</b>\n",
      "At the roundabout, take the <b>2nd</b> exit and stay on <b>Route 1</b>\n",
      "Turn <b>right</b> onto <b>Szolnoki út</b>\n",
      "Continue onto <b>Óvári u.</b>\n",
      "Continue onto <b>Fő u.</b>\n",
      "Turn <b>left</b> onto <b>Szabadság út</b>\n",
      "Turn <b>right</b> onto <b>Jókai u.</b><div style=\"font-size:0.9em\">Destination will be on the right</div>\n",
      "\n",
      "\n",
      "\n",
      "Route 3:\n",
      "Head <b>southwest</b> on <b>Alkotmány u.</b>\n",
      "Turn <b>left</b>\n",
      "Turn <b>right</b> at <b>Orgona u.</b>\n",
      "Turn <b>right</b>\n",
      "Turn <b>left</b>\n",
      "Turn <b>left</b> onto <b>Kázméri u.</b>\n",
      "Continue onto <b>Fő u.</b>\n",
      "Turn <b>right</b> onto <b>Posta u.</b><div style=\"font-size:0.9em\">Destination will be on the right</div>\n",
      "\n",
      "\n",
      "\n"
     ]
    }
   ],
   "source": [
    "import googlemaps\n",
    "\n",
    "gmaps = googlemaps.Client(key=key)\n",
    "directions_result = gmaps.directions(\"Hegyeshalom\", \"Mosonszolnok\", alternatives=True)\n",
    "#Possible directions test\n",
    "for i, route in enumerate(directions_result):\n",
    "    print(f\"Route {i+1}:\")\n",
    "    for step in route['legs'][0]['steps']:  \n",
    "        print(step['html_instructions'])\n",
    "    print(\"\\n\\n\")"
   ]
  }
 ],
 "metadata": {
  "kernelspec": {
   "display_name": "Python 3",
   "language": "python",
   "name": "python3"
  },
  "language_info": {
   "codemirror_mode": {
    "name": "ipython",
    "version": 3
   },
   "file_extension": ".py",
   "mimetype": "text/x-python",
   "name": "python",
   "nbconvert_exporter": "python",
   "pygments_lexer": "ipython3",
   "version": "3.10.11"
  }
 },
 "nbformat": 4,
 "nbformat_minor": 2
}
