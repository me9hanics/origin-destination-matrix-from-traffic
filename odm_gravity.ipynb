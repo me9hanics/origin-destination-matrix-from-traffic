{
 "cells": [
  {
   "cell_type": "markdown",
   "metadata": {},
   "source": [
    "Origin-destination matrix estimation: Gravity model"
   ]
  },
  {
   "cell_type": "code",
   "execution_count": 1,
   "metadata": {},
   "outputs": [],
   "source": [
    "import skmob\n",
    "from skmob.utils import utils, constants\n",
    "import pandas as pd\n",
    "import geopandas as gpd\n",
    "import numpy as np\n",
    "from skmob.models import gravity\n",
    "from skmob.models.gravity import Gravity\n",
    "\n",
    "#import map_functions\n",
    "#import computing_functions\n",
    "import matplotlib.pyplot as plt\n",
    "import networkx as nx\n"
   ]
  },
  {
   "cell_type": "markdown",
   "metadata": {},
   "source": [
    "#### 16 cities"
   ]
  },
  {
   "cell_type": "code",
   "execution_count": 2,
   "metadata": {},
   "outputs": [],
   "source": [
    "from shapely.geometry import Point\n",
    "\n",
    "ksh_stats = pd.read_csv(\"data/sources/KSH/KSHSettlList_settlID_settlname_pop_lat_lon.csv\")\n",
    "ksh_flows = pd.read_csv(\"data/sources/KSH/KSHCommuting_c1ID_c1name_c2ID_c2name_comm_school_work_UNDIR.csv\")\n",
    "ksh_flows_dir = pd.read_csv(\"data/sources/KSH/KSHCommuting_c1ID_c1name_c2ID_c2name_comm_school_work_DIR.csv\")\n",
    "gdf_hungary = gpd.read_file(\"data/sources/Hungary_2022_static_road_data.geojson\")\n",
    "#crs = gdf_hungary.crs\n",
    "crs = \"EPSG:4326\"\n",
    "cities = ['Budapest', 'Kecskemét', 'Szeged', 'Szolnok', 'Debrecen', 'Nyíregyháza', 'Miskolc', 'Dunaújváros', 'Szekszárd', 'Pécs', 'Székesfehérvár', 'Siófok', 'Győr', 'Sopron', 'Szombathely', 'Veszprém']\n",
    "countries = ['Ausztria', 'Szlovákia', 'Ukrajna', 'Románia', 'Szerbia', 'Horvátország', 'Szlovénia']"
   ]
  },
  {
   "cell_type": "code",
   "execution_count": 3,
   "metadata": {},
   "outputs": [
    {
     "name": "stdout",
     "output_type": "stream",
     "text": [
      "Mátyus\n",
      "20677\n",
      "20668\n",
      "Tibolddaróc\n",
      "30456\n",
      "30447\n"
     ]
    }
   ],
   "source": [
    "place_id_dict = {}\n",
    "for key, value in zip(ksh_flows_dir['origName'], ksh_flows_dir['origID']):\n",
    "    if key in place_id_dict.keys():\n",
    "        if place_id_dict[key] != value:\n",
    "            print(key), print(value), print(place_id_dict[key])\n",
    "    else:\n",
    "        place_id_dict[key] = value\n",
    "place_id_dict['Budapest'] = 13578\n",
    "\n",
    "for i, row in ksh_flows.iterrows():\n",
    "    if row['origName'] in place_id_dict.keys():\n",
    "        ksh_flows.at[i, 'origID'] = place_id_dict[row['origName']]\n",
    "    elif \"Budapest\" == (row['origName']):\n",
    "        ksh_stats.at[i, 'origID'] = 13578\n",
    "    elif row['origName'] not in countries:\n",
    "        print(f\"Problem with origName: {row['origName']}\")\n",
    "        print(row)\n",
    "\n",
    "    if row['destName'] in place_id_dict.keys():\n",
    "        ksh_flows.at[i, 'destID'] = place_id_dict[row['destName']]\n",
    "    elif \"Budapest\" in (row['destName']):\n",
    "        ksh_flows.at[i, 'destID'] = 13578\n",
    "    elif row['destName'] not in countries:\n",
    "        print(f\"Problem with destName: {row['destName']}\")\n",
    "        print(row)\n",
    "\n",
    "id_place_dict = { v:k for k, v in place_id_dict.items()}"
   ]
  },
  {
   "cell_type": "code",
   "execution_count": 4,
   "metadata": {},
   "outputs": [],
   "source": [
    "def replace_letters(s):\n",
    "    return s.replace(\"õ\", \"ő\").replace(\"Õ\", \"Ő\").replace(\"û\", \"ű\").replace(\"Û\", \"Ű\")\n",
    "#non_english_letters = r'[^a-zA-Z]'; non_hungarian_letters = r'[^a-zA-ZáéíóöőúüűÁÉÍÓÖŐÚÜŰ]'\n",
    "#non_hungarian = ksh_stats['Settlement_Name'].str.contains(non_hungarian_str, regex=True)\n",
    "ksh_stats['Settlement_Name'] = ksh_stats['Settlement_Name'].apply(replace_letters)\n",
    "ksh_flows['origName'] = ksh_flows['origName'].apply(replace_letters)\n",
    "ksh_flows['destName'] = ksh_flows['destName'].apply(replace_letters)\n",
    "\n",
    "ksh_flows.to_csv(\"data/sources/KSH/Commuting_undirected_corrected.csv\", index=False)"
   ]
  },
  {
   "cell_type": "code",
   "execution_count": 5,
   "metadata": {},
   "outputs": [
    {
     "name": "stderr",
     "output_type": "stream",
     "text": [
      "C:\\Users\\hanic\\AppData\\Local\\Temp\\ipykernel_22304\\1262939418.py:10: FutureWarning: Indexing with multiple keys (implicitly converted to a tuple of keys) will be deprecated, use a list instead.\n",
      "  ksh_flows_temp = ksh_flows.groupby(['orig_dest'])['CommutersAll', 'CommutersSchool', 'CommutersWork'].sum().reset_index()\n",
      "C:\\Users\\hanic\\AppData\\Local\\Temp\\ipykernel_22304\\1262939418.py:17: FutureWarning: Indexing with multiple keys (implicitly converted to a tuple of keys) will be deprecated, use a list instead.\n",
      "  ksh_flows_combined = ksh_flows.groupby(['origID', 'origName', 'destID', 'destName'])['CommutersAll', 'CommutersSchool', 'CommutersWork'].sum().reset_index()\n",
      "c:\\Users\\hanic\\.pyenv\\pyenv-win\\versions\\3.9.1\\lib\\site-packages\\geopandas\\geodataframe.py:1351: SettingWithCopyWarning: \n",
      "A value is trying to be set on a copy of a slice from a DataFrame.\n",
      "Try using .loc[row_indexer,col_indexer] = value instead\n",
      "\n",
      "See the caveats in the documentation: https://pandas.pydata.org/pandas-docs/stable/user_guide/indexing.html#returning-a-view-versus-a-copy\n",
      "  super().__setitem__(key, value)\n",
      "C:\\Users\\hanic\\AppData\\Local\\Temp\\ipykernel_22304\\1262939418.py:42: SettingWithCopyWarning: \n",
      "A value is trying to be set on a copy of a slice from a DataFrame\n",
      "\n",
      "See the caveats in the documentation: https://pandas.pydata.org/pandas-docs/stable/user_guide/indexing.html#returning-a-view-versus-a-copy\n",
      "  tessellation_16['tile_ID'][0] = 13578\n",
      "c:\\Users\\hanic\\.pyenv\\pyenv-win\\versions\\3.9.1\\lib\\site-packages\\geopandas\\io\\file.py:362: FutureWarning: pandas.Int64Index is deprecated and will be removed from pandas in a future version. Use pandas.Index with the appropriate dtype instead.\n",
      "  pd.Int64Index,\n"
     ]
    }
   ],
   "source": [
    "ksh_flows['origName'] = ksh_flows['origName'].apply(lambda x: 'Budapest' if 'Budapest' in x else x)\n",
    "ksh_flows['destName'] = ksh_flows['destName'].apply(lambda x: 'Budapest' if 'Budapest' in x else x)\n",
    "\n",
    "ksh_flows.loc[ksh_flows['origName'] == 'Budapest', 'origID'] = 13578\n",
    "ksh_flows.loc[ksh_flows['destName'] == 'Budapest', 'destID'] = 13578\n",
    "\n",
    "#Combine cases where the origName and destName are switched\n",
    "ksh_flows['orig_dest'] = list(zip(ksh_flows['origID'], ksh_flows['destID']))\n",
    "ksh_flows['orig_dest'] = ksh_flows['orig_dest'].apply(lambda x: tuple(sorted(x)))\n",
    "ksh_flows_temp = ksh_flows.groupby(['orig_dest'])['CommutersAll', 'CommutersSchool', 'CommutersWork'].sum().reset_index()\n",
    "ksh_flows_temp[['origID', 'destID']] = pd.DataFrame(ksh_flows_temp['orig_dest'].tolist(), index=ksh_flows_temp.index)\n",
    "ksh_flows_temp = ksh_flows_temp.drop(columns=['orig_dest'])\n",
    "ksh_flows = ksh_flows_temp.copy()\n",
    "ksh_flows['origName'] = ksh_flows['origID'].apply(lambda x: id_place_dict[x])\n",
    "ksh_flows['destName'] = ksh_flows['destID'].apply(lambda x: id_place_dict[x])\n",
    "#Sum the last three columns for each pair of origID and destID\n",
    "ksh_flows_combined = ksh_flows.groupby(['origID', 'origName', 'destID', 'destName'])['CommutersAll', 'CommutersSchool', 'CommutersWork'].sum().reset_index()\n",
    "\n",
    "geometry = [Point(xy) for xy in zip(ksh_stats['longitude'], ksh_stats['latitude'])]\n",
    "gdf_ksh = (gpd.GeoDataFrame(ksh_stats, crs=\"EPSG:4326\", geometry=geometry)).to_crs(crs)\n",
    "\n",
    "gdf_16 = gdf_ksh[gdf_ksh['Settlement_Name'].isin(cities)]\n",
    "odf_16 = ksh_flows_combined[(ksh_flows_combined['origName'].isin(cities)) & (ksh_flows_combined['destName'].isin(cities))]\n",
    "odf_16 = odf_16.rename(columns={'origID': 'origin', 'destID': 'destination', 'CommutersAll': 'flow'})\n",
    "odf_16 = odf_16.drop(columns=['CommutersSchool', 'CommutersWork', 'origName', 'destName'])\n",
    "odf_16 = odf_16[[odf_16.columns[-1]]+list(odf_16.columns[:-1])] #Swap the columns\n",
    "odf_16 = pd.concat([odf_16, pd.DataFrame([{'flow':0,'origin': place_id_dict['Szekszárd'], 'destination':place_id_dict['Nyíregyháza']}])], ignore_index=True)\n",
    "\n",
    "\n",
    "gdf_bp = gdf_ksh[gdf_ksh['Settlement_Name'].str.contains(\"Budapest\")]\n",
    "gdf_bp['Settlement_Name'] = 'Budapest'\n",
    "bp_aggregations = {col: 'first' for col in gdf_bp.columns} #Select the first value of each column\n",
    "bp_aggregations['Population'] = 'sum' #except for 'Population', which is summed\n",
    "#Groupby,aggregate\n",
    "gdf_bp = gdf_bp.groupby('Settlement_Name', as_index=False).agg(bp_aggregations)\n",
    "\n",
    "gdf_16 = pd.concat([gdf_bp,gdf_16 ], ignore_index=True)\n",
    "\n",
    "tessellation_16 = gdf_16.copy().drop(columns=[ 'latitude', 'longitude','Settlement_Name']).rename(columns={'Settlement_ID': 'tile_ID', 'Population': 'population'})\n",
    "tessellation_16 = gpd.GeoDataFrame(tessellation_16, geometry='geometry')\n",
    "tessellation_16.crs = crs\n",
    "tessellation_16['tile_ID'][0] = 13578\n",
    "\n",
    "tessellation_16.to_file(\"data/sources/KSH/tessellation_16_cities.geojson\", driver='GeoJSON')\n",
    "odf_16.to_csv(\"data/sources/KSH/flows_16_cities.csv\", index=False)"
   ]
  },
  {
   "cell_type": "code",
   "execution_count": 6,
   "metadata": {},
   "outputs": [
    {
     "data": {
      "text/html": [
       "<div>\n",
       "<style scoped>\n",
       "    .dataframe tbody tr th:only-of-type {\n",
       "        vertical-align: middle;\n",
       "    }\n",
       "\n",
       "    .dataframe tbody tr th {\n",
       "        vertical-align: top;\n",
       "    }\n",
       "\n",
       "    .dataframe thead th {\n",
       "        text-align: right;\n",
       "    }\n",
       "</style>\n",
       "<table border=\"1\" class=\"dataframe\">\n",
       "  <thead>\n",
       "    <tr style=\"text-align: right;\">\n",
       "      <th></th>\n",
       "      <th>tile_ID</th>\n",
       "      <th>population</th>\n",
       "      <th>geometry</th>\n",
       "    </tr>\n",
       "  </thead>\n",
       "  <tbody>\n",
       "    <tr>\n",
       "      <th>0</th>\n",
       "      <td>13578</td>\n",
       "      <td>1740041</td>\n",
       "      <td>POINT (19.29790 47.48350)</td>\n",
       "    </tr>\n",
       "    <tr>\n",
       "      <th>1</th>\n",
       "      <td>3009</td>\n",
       "      <td>79348</td>\n",
       "      <td>POINT (16.62160 47.23090)</td>\n",
       "    </tr>\n",
       "    <tr>\n",
       "      <th>2</th>\n",
       "      <td>3115</td>\n",
       "      <td>48010</td>\n",
       "      <td>POINT (18.93290 46.96740)</td>\n",
       "    </tr>\n",
       "    <tr>\n",
       "      <th>3</th>\n",
       "      <td>8518</td>\n",
       "      <td>61390</td>\n",
       "      <td>POINT (16.59050 47.68500)</td>\n",
       "    </tr>\n",
       "    <tr>\n",
       "      <th>4</th>\n",
       "      <td>11767</td>\n",
       "      <td>64024</td>\n",
       "      <td>POINT (17.91150 47.09330)</td>\n",
       "    </tr>\n",
       "    <tr>\n",
       "      <th>5</th>\n",
       "      <td>14827</td>\n",
       "      <td>101722</td>\n",
       "      <td>POINT (18.41030 47.18990)</td>\n",
       "    </tr>\n",
       "    <tr>\n",
       "      <th>6</th>\n",
       "      <td>15130</td>\n",
       "      <td>207594</td>\n",
       "      <td>POINT (21.63330 47.53330)</td>\n",
       "    </tr>\n",
       "    <tr>\n",
       "      <th>7</th>\n",
       "      <td>17206</td>\n",
       "      <td>117658</td>\n",
       "      <td>POINT (21.71670 47.95540)</td>\n",
       "    </tr>\n",
       "    <tr>\n",
       "      <th>8</th>\n",
       "      <td>17631</td>\n",
       "      <td>24375</td>\n",
       "      <td>POINT (18.05800 46.90410)</td>\n",
       "    </tr>\n",
       "    <tr>\n",
       "      <th>9</th>\n",
       "      <td>19415</td>\n",
       "      <td>156801</td>\n",
       "      <td>POINT (18.23330 46.08330)</td>\n",
       "    </tr>\n",
       "    <tr>\n",
       "      <th>10</th>\n",
       "      <td>22761</td>\n",
       "      <td>33311</td>\n",
       "      <td>POINT (18.70910 46.35010)</td>\n",
       "    </tr>\n",
       "    <tr>\n",
       "      <th>11</th>\n",
       "      <td>25584</td>\n",
       "      <td>131564</td>\n",
       "      <td>POINT (17.63510 47.68330)</td>\n",
       "    </tr>\n",
       "    <tr>\n",
       "      <th>12</th>\n",
       "      <td>26684</td>\n",
       "      <td>114226</td>\n",
       "      <td>POINT (19.69130 46.90620)</td>\n",
       "    </tr>\n",
       "    <tr>\n",
       "      <th>13</th>\n",
       "      <td>27854</td>\n",
       "      <td>74341</td>\n",
       "      <td>POINT (20.20000 47.18330)</td>\n",
       "    </tr>\n",
       "    <tr>\n",
       "      <th>14</th>\n",
       "      <td>30456</td>\n",
       "      <td>166823</td>\n",
       "      <td>POINT (20.78330 48.10000)</td>\n",
       "    </tr>\n",
       "    <tr>\n",
       "      <th>15</th>\n",
       "      <td>33367</td>\n",
       "      <td>170052</td>\n",
       "      <td>POINT (20.14820 46.25300)</td>\n",
       "    </tr>\n",
       "  </tbody>\n",
       "</table>\n",
       "</div>"
      ],
      "text/plain": [
       "    tile_ID  population                   geometry\n",
       "0     13578     1740041  POINT (19.29790 47.48350)\n",
       "1      3009       79348  POINT (16.62160 47.23090)\n",
       "2      3115       48010  POINT (18.93290 46.96740)\n",
       "3      8518       61390  POINT (16.59050 47.68500)\n",
       "4     11767       64024  POINT (17.91150 47.09330)\n",
       "5     14827      101722  POINT (18.41030 47.18990)\n",
       "6     15130      207594  POINT (21.63330 47.53330)\n",
       "7     17206      117658  POINT (21.71670 47.95540)\n",
       "8     17631       24375  POINT (18.05800 46.90410)\n",
       "9     19415      156801  POINT (18.23330 46.08330)\n",
       "10    22761       33311  POINT (18.70910 46.35010)\n",
       "11    25584      131564  POINT (17.63510 47.68330)\n",
       "12    26684      114226  POINT (19.69130 46.90620)\n",
       "13    27854       74341  POINT (20.20000 47.18330)\n",
       "14    30456      166823  POINT (20.78330 48.10000)\n",
       "15    33367      170052  POINT (20.14820 46.25300)"
      ]
     },
     "execution_count": 6,
     "metadata": {},
     "output_type": "execute_result"
    }
   ],
   "source": [
    "tessellation_16"
   ]
  },
  {
   "cell_type": "code",
   "execution_count": 7,
   "metadata": {},
   "outputs": [],
   "source": [
    "#load real flows into a FlowDataFrame\n",
    "fdf = skmob.FlowDataFrame.from_file(\"data/sources/KSH/flows_16_cities.csv\",\n",
    "                                        tessellation=tessellation_16,\n",
    "                                        tile_id='tile_ID',\n",
    "                                        sep=\",\")\n",
    "fdf['origin'] = fdf['origin'].astype('int64')\n",
    "fdf['destination'] = fdf['destination'].astype('int64')\n",
    "fdf.tessellation[constants.TILE_ID] = fdf.tessellation[constants.TILE_ID].astype('int64')"
   ]
  },
  {
   "cell_type": "code",
   "execution_count": 8,
   "metadata": {},
   "outputs": [],
   "source": [
    "# compute the total outflows from each location of the tessellation (excluding self loops)\n",
    "tot_outflows = fdf[fdf['origin'] != fdf['destination']].groupby(by='origin', axis=0)[['flow']].sum().fillna(0)\n",
    "tessellation = tessellation_16.merge(tot_outflows, left_on='tile_ID', right_on='origin').rename(columns={'flow': constants.TOT_OUTFLOW})"
   ]
  },
  {
   "cell_type": "code",
   "execution_count": 9,
   "metadata": {},
   "outputs": [
    {
     "data": {
      "text/html": [
       "<div>\n",
       "<style scoped>\n",
       "    .dataframe tbody tr th:only-of-type {\n",
       "        vertical-align: middle;\n",
       "    }\n",
       "\n",
       "    .dataframe tbody tr th {\n",
       "        vertical-align: top;\n",
       "    }\n",
       "\n",
       "    .dataframe thead th {\n",
       "        text-align: right;\n",
       "    }\n",
       "</style>\n",
       "<table border=\"1\" class=\"dataframe\">\n",
       "  <thead>\n",
       "    <tr style=\"text-align: right;\">\n",
       "      <th></th>\n",
       "      <th>tile_ID</th>\n",
       "      <th>population</th>\n",
       "      <th>geometry</th>\n",
       "      <th>tot_outflow</th>\n",
       "    </tr>\n",
       "  </thead>\n",
       "  <tbody>\n",
       "    <tr>\n",
       "      <th>0</th>\n",
       "      <td>13578</td>\n",
       "      <td>1740041</td>\n",
       "      <td>POINT (19.29790 47.48350)</td>\n",
       "      <td>25026</td>\n",
       "    </tr>\n",
       "    <tr>\n",
       "      <th>1</th>\n",
       "      <td>3009</td>\n",
       "      <td>79348</td>\n",
       "      <td>POINT (16.62160 47.23090)</td>\n",
       "      <td>1618</td>\n",
       "    </tr>\n",
       "    <tr>\n",
       "      <th>2</th>\n",
       "      <td>3115</td>\n",
       "      <td>48010</td>\n",
       "      <td>POINT (18.93290 46.96740)</td>\n",
       "      <td>3066</td>\n",
       "    </tr>\n",
       "    <tr>\n",
       "      <th>3</th>\n",
       "      <td>8518</td>\n",
       "      <td>61390</td>\n",
       "      <td>POINT (16.59050 47.68500)</td>\n",
       "      <td>1126</td>\n",
       "    </tr>\n",
       "    <tr>\n",
       "      <th>4</th>\n",
       "      <td>11767</td>\n",
       "      <td>64024</td>\n",
       "      <td>POINT (17.91150 47.09330)</td>\n",
       "      <td>2888</td>\n",
       "    </tr>\n",
       "    <tr>\n",
       "      <th>5</th>\n",
       "      <td>14827</td>\n",
       "      <td>101722</td>\n",
       "      <td>POINT (18.41030 47.18990)</td>\n",
       "      <td>793</td>\n",
       "    </tr>\n",
       "    <tr>\n",
       "      <th>6</th>\n",
       "      <td>15130</td>\n",
       "      <td>207594</td>\n",
       "      <td>POINT (21.63330 47.53330)</td>\n",
       "      <td>3462</td>\n",
       "    </tr>\n",
       "    <tr>\n",
       "      <th>7</th>\n",
       "      <td>17206</td>\n",
       "      <td>117658</td>\n",
       "      <td>POINT (21.71670 47.95540)</td>\n",
       "      <td>470</td>\n",
       "    </tr>\n",
       "    <tr>\n",
       "      <th>8</th>\n",
       "      <td>17631</td>\n",
       "      <td>24375</td>\n",
       "      <td>POINT (18.05800 46.90410)</td>\n",
       "      <td>212</td>\n",
       "    </tr>\n",
       "    <tr>\n",
       "      <th>9</th>\n",
       "      <td>19415</td>\n",
       "      <td>156801</td>\n",
       "      <td>POINT (18.23330 46.08330)</td>\n",
       "      <td>796</td>\n",
       "    </tr>\n",
       "    <tr>\n",
       "      <th>10</th>\n",
       "      <td>22761</td>\n",
       "      <td>33311</td>\n",
       "      <td>POINT (18.70910 46.35010)</td>\n",
       "      <td>82</td>\n",
       "    </tr>\n",
       "    <tr>\n",
       "      <th>11</th>\n",
       "      <td>26684</td>\n",
       "      <td>114226</td>\n",
       "      <td>POINT (19.69130 46.90620)</td>\n",
       "      <td>1336</td>\n",
       "    </tr>\n",
       "    <tr>\n",
       "      <th>12</th>\n",
       "      <td>27854</td>\n",
       "      <td>74341</td>\n",
       "      <td>POINT (20.20000 47.18330)</td>\n",
       "      <td>442</td>\n",
       "    </tr>\n",
       "    <tr>\n",
       "      <th>13</th>\n",
       "      <td>30456</td>\n",
       "      <td>166823</td>\n",
       "      <td>POINT (20.78330 48.10000)</td>\n",
       "      <td>26</td>\n",
       "    </tr>\n",
       "  </tbody>\n",
       "</table>\n",
       "</div>"
      ],
      "text/plain": [
       "    tile_ID  population                   geometry  tot_outflow\n",
       "0     13578     1740041  POINT (19.29790 47.48350)        25026\n",
       "1      3009       79348  POINT (16.62160 47.23090)         1618\n",
       "2      3115       48010  POINT (18.93290 46.96740)         3066\n",
       "3      8518       61390  POINT (16.59050 47.68500)         1126\n",
       "4     11767       64024  POINT (17.91150 47.09330)         2888\n",
       "5     14827      101722  POINT (18.41030 47.18990)          793\n",
       "6     15130      207594  POINT (21.63330 47.53330)         3462\n",
       "7     17206      117658  POINT (21.71670 47.95540)          470\n",
       "8     17631       24375  POINT (18.05800 46.90410)          212\n",
       "9     19415      156801  POINT (18.23330 46.08330)          796\n",
       "10    22761       33311  POINT (18.70910 46.35010)           82\n",
       "11    26684      114226  POINT (19.69130 46.90620)         1336\n",
       "12    27854       74341  POINT (20.20000 47.18330)          442\n",
       "13    30456      166823  POINT (20.78330 48.10000)           26"
      ]
     },
     "execution_count": 9,
     "metadata": {},
     "output_type": "execute_result"
    }
   ],
   "source": [
    "tessellation"
   ]
  },
  {
   "cell_type": "code",
   "execution_count": 10,
   "metadata": {},
   "outputs": [
    {
     "name": "stdout",
     "output_type": "stream",
     "text": [
      "Gravity(name=\"Gravity model\", deterrence_func_type=\"power_law\", deterrence_func_args=[-2.0], origin_exp=1.0, destination_exp=1.0, gravity_type=\"singly constrained\")\n"
     ]
    },
    {
     "name": "stderr",
     "output_type": "stream",
     "text": [
      "100%|██████████| 14/14 [00:00<00:00, 14007.69it/s]\n",
      "c:\\Users\\hanic\\.pyenv\\pyenv-win\\versions\\3.9.1\\lib\\site-packages\\skmob\\models\\gravity.py:43: RuntimeWarning: divide by zero encountered in power\n",
      "  return np.power(x, exponent)\n"
     ]
    }
   ],
   "source": [
    "# instantiate a singly constrained Gravity model\n",
    "gravity_singly = Gravity(gravity_type='singly constrained')\n",
    "print(gravity_singly)\n",
    "Gravity(name=\"Gravity model\", deterrence_func_type=\"power_law\", deterrence_func_args=[-2.0], origin_exp=1.0, destination_exp=1.0, gravity_type=\"singly constrained\")\n",
    "np.random.seed(0)\n",
    "synth_fdf = gravity_singly.generate(tessellation,\n",
    "                                   tile_id_column='tile_ID',\n",
    "                                   tot_outflows_column='tot_outflow',\n",
    "                                   relevance_column= 'population',\n",
    "                                   out_format='flows')"
   ]
  },
  {
   "cell_type": "code",
   "execution_count": 11,
   "metadata": {},
   "outputs": [
    {
     "data": {
      "text/html": [
       "<div>\n",
       "<style scoped>\n",
       "    .dataframe tbody tr th:only-of-type {\n",
       "        vertical-align: middle;\n",
       "    }\n",
       "\n",
       "    .dataframe tbody tr th {\n",
       "        vertical-align: top;\n",
       "    }\n",
       "\n",
       "    .dataframe thead th {\n",
       "        text-align: right;\n",
       "    }\n",
       "</style>\n",
       "<table border=\"1\" class=\"dataframe\">\n",
       "  <thead>\n",
       "    <tr style=\"text-align: right;\">\n",
       "      <th></th>\n",
       "      <th>origin</th>\n",
       "      <th>destination</th>\n",
       "      <th>flow</th>\n",
       "    </tr>\n",
       "  </thead>\n",
       "  <tbody>\n",
       "    <tr>\n",
       "      <th>0</th>\n",
       "      <td>13578</td>\n",
       "      <td>3009</td>\n",
       "      <td>465.047453</td>\n",
       "    </tr>\n",
       "    <tr>\n",
       "      <th>1</th>\n",
       "      <td>13578</td>\n",
       "      <td>3115</td>\n",
       "      <td>2875.949716</td>\n",
       "    </tr>\n",
       "    <tr>\n",
       "      <th>2</th>\n",
       "      <td>13578</td>\n",
       "      <td>8518</td>\n",
       "      <td>357.166536</td>\n",
       "    </tr>\n",
       "    <tr>\n",
       "      <th>3</th>\n",
       "      <td>13578</td>\n",
       "      <td>11767</td>\n",
       "      <td>1212.824382</td>\n",
       "    </tr>\n",
       "    <tr>\n",
       "      <th>4</th>\n",
       "      <td>13578</td>\n",
       "      <td>14827</td>\n",
       "      <td>4458.416254</td>\n",
       "    </tr>\n",
       "    <tr>\n",
       "      <th>...</th>\n",
       "      <td>...</td>\n",
       "      <td>...</td>\n",
       "      <td>...</td>\n",
       "    </tr>\n",
       "    <tr>\n",
       "      <th>177</th>\n",
       "      <td>30456</td>\n",
       "      <td>17631</td>\n",
       "      <td>0.062154</td>\n",
       "    </tr>\n",
       "    <tr>\n",
       "      <th>178</th>\n",
       "      <td>30456</td>\n",
       "      <td>19415</td>\n",
       "      <td>0.272159</td>\n",
       "    </tr>\n",
       "    <tr>\n",
       "      <th>179</th>\n",
       "      <td>30456</td>\n",
       "      <td>22761</td>\n",
       "      <td>0.081125</td>\n",
       "    </tr>\n",
       "    <tr>\n",
       "      <th>180</th>\n",
       "      <td>30456</td>\n",
       "      <td>26684</td>\n",
       "      <td>0.712750</td>\n",
       "    </tr>\n",
       "    <tr>\n",
       "      <th>181</th>\n",
       "      <td>30456</td>\n",
       "      <td>27854</td>\n",
       "      <td>0.918286</td>\n",
       "    </tr>\n",
       "  </tbody>\n",
       "</table>\n",
       "<p>182 rows × 3 columns</p>\n",
       "</div>"
      ],
      "text/plain": [
       "    origin destination         flow\n",
       "0    13578        3009   465.047453\n",
       "1    13578        3115  2875.949716\n",
       "2    13578        8518   357.166536\n",
       "3    13578       11767  1212.824382\n",
       "4    13578       14827  4458.416254\n",
       "..     ...         ...          ...\n",
       "177  30456       17631     0.062154\n",
       "178  30456       19415     0.272159\n",
       "179  30456       22761     0.081125\n",
       "180  30456       26684     0.712750\n",
       "181  30456       27854     0.918286\n",
       "\n",
       "[182 rows x 3 columns]"
      ]
     },
     "execution_count": 11,
     "metadata": {},
     "output_type": "execute_result"
    }
   ],
   "source": [
    "synth_fdf"
   ]
  },
  {
   "cell_type": "code",
   "execution_count": 12,
   "metadata": {},
   "outputs": [
    {
     "name": "stdout",
     "output_type": "stream",
     "text": [
      "Gravity(name=\"Gravity model\", deterrence_func_type=\"power_law\", deterrence_func_args=[-2.0], origin_exp=1.0, destination_exp=1.0, gravity_type=\"singly constrained\")\n",
      "Gravity(name=\"Gravity model\", deterrence_func_type=\"power_law\", deterrence_func_args=[-1.7814974505101602], origin_exp=1.0, destination_exp=0.9707253928311419, gravity_type=\"singly constrained\")\n"
     ]
    }
   ],
   "source": [
    "# fit the parameters of the Gravity model from real fluxes\n",
    "gravity_singly_fitted = Gravity(gravity_type='singly constrained')\n",
    "print(gravity_singly_fitted)\n",
    "Gravity(name=\"Gravity model\", deterrence_func_type=\"power_law\", deterrence_func_args=[-2.0], origin_exp=1.0, destination_exp=1.0, gravity_type=\"singly constrained\")\n",
    "gravity_singly_fitted.fit(fdf, relevance_column='population')\n",
    "print(gravity_singly_fitted)\n"
   ]
  },
  {
   "cell_type": "code",
   "execution_count": 13,
   "metadata": {},
   "outputs": [
    {
     "name": "stderr",
     "output_type": "stream",
     "text": [
      "100%|██████████| 14/14 [00:00<?, ?it/s]\n",
      "c:\\Users\\hanic\\.pyenv\\pyenv-win\\versions\\3.9.1\\lib\\site-packages\\skmob\\models\\gravity.py:43: RuntimeWarning: divide by zero encountered in power\n",
      "  return np.power(x, exponent)\n"
     ]
    }
   ],
   "source": [
    "Gravity(name=\"Gravity model\", deterrence_func_type=\"power_law\", deterrence_func_args=[-1.7814974505101602], origin_exp=1.0, destination_exp=0.9707253928311419, gravity_type=\"singly constrained\")\n",
    "np.random.seed(0)\n",
    "synth_fdf_fitted = gravity_singly_fitted.generate(tessellation,\n",
    "                                                        tile_id_column='tile_ID',\n",
    "                                                        tot_outflows_column='tot_outflow',\n",
    "                                                        relevance_column= 'population',\n",
    "                                                        out_format='flows')"
   ]
  },
  {
   "cell_type": "code",
   "execution_count": 15,
   "metadata": {},
   "outputs": [],
   "source": [
    "#Tuple of origin-destination pairs\n",
    "od_pairs = [(row['origin'], row['destination']) for i, row in fdf.iterrows()]; od_pairs_reversed = [(row['destination'], row['origin']) for i, row in fdf.iterrows()]\n",
    "od_pairs_str = [(str(row['origin']), str(row['destination'])) for i, row in fdf.iterrows()]; od_pairs_reversed_str = [(str(row['destination']), str(row['origin'])) for i, row in fdf.iterrows()]\n",
    "\n",
    "#Filter only the rows where the origin-destination pair is in the od_pairs\n",
    "synth_fdf_fixed = synth_fdf[synth_fdf[['origin', 'destination']].apply(tuple, axis=1).isin(od_pairs_str) | synth_fdf[['origin', 'destination']].apply(tuple, axis=1).isin(od_pairs_reversed_str)]\n",
    "synth_fdf_fitted_fixed = synth_fdf_fitted[synth_fdf_fitted[['origin', 'destination']].apply(tuple, axis=1).isin(od_pairs_str) | synth_fdf_fitted[['origin', 'destination']].apply(tuple, axis=1).isin(od_pairs_reversed_str)]\n",
    "\n",
    "#Order the rows in the same way as in the original fdf\n",
    "od_pairs_index = {pair: i for i, pair in enumerate(od_pairs_str)}\n",
    "\n",
    "synth_fdf_fixed['order'] = synth_fdf_fixed.apply(lambda row: od_pairs_index.get((str(row['origin']), str(row['destination'])), od_pairs_index.get((str(row['destination']), str(row['origin'])))), axis=1)\n",
    "synth_fdf_fitted_fixed['order'] = synth_fdf_fitted_fixed.apply(lambda row: od_pairs_index.get((str(row['origin']), str(row['destination'])), od_pairs_index.get((str(row['destination']), str(row['origin'])))), axis=1)\n",
    "\n",
    "synth_fdf_fixed = synth_fdf_fixed.sort_values('order')\n",
    "synth_fdf_fitted_fixed = synth_fdf_fitted_fixed.sort_values('order')\n",
    "\n",
    "synth_fdf_fixed = synth_fdf_fixed.drop(columns='order')\n",
    "synth_fdf_fitted_fixed = synth_fdf_fitted_fixed.drop(columns='order')"
   ]
  },
  {
   "cell_type": "code",
   "execution_count": 22,
   "metadata": {},
   "outputs": [
    {
     "data": {
      "text/plain": [
       "['Szombathely',\n",
       " 'Dunaújváros',\n",
       " 'Sopron',\n",
       " 'Veszprém',\n",
       " 'Budapest',\n",
       " 'Székesfehérvár',\n",
       " 'Debrecen',\n",
       " 'Nyíregyháza',\n",
       " 'Siófok',\n",
       " 'Pécs',\n",
       " 'Szekszárd',\n",
       " 'Kecskemét',\n",
       " 'Szolnok',\n",
       " 'Miskolc',\n",
       " 'Szeged']"
      ]
     },
     "execution_count": 22,
     "metadata": {},
     "output_type": "execute_result"
    }
   ],
   "source": [
    "places_sorted"
   ]
  },
  {
   "cell_type": "code",
   "execution_count": 38,
   "metadata": {},
   "outputs": [
    {
     "data": {
      "text/plain": [
       "(['Budapest',\n",
       "  'Szombathely',\n",
       "  'Dunaújváros',\n",
       "  'Sopron',\n",
       "  'Veszprém',\n",
       "  'Székesfehérvár',\n",
       "  'Debrecen',\n",
       "  'Nyíregyháza',\n",
       "  'Siófok',\n",
       "  'Pécs',\n",
       "  'Szekszárd',\n",
       "  'Kecskemét',\n",
       "  'Szolnok',\n",
       "  'Miskolc'],\n",
       " 'Budapest')"
      ]
     },
     "execution_count": 38,
     "metadata": {},
     "output_type": "execute_result"
    }
   ],
   "source": [
    "places_sorted, o"
   ]
  },
  {
   "cell_type": "code",
   "execution_count": 41,
   "metadata": {},
   "outputs": [],
   "source": [
    "places_sorted = [id_place_dict[int(id)] for id in synth_fdf['origin'].unique()]\n",
    "odm_2d = np.zeros((len(places_sorted), len(places_sorted)))\n",
    "odm_2d_fitted = np.zeros((len(places_sorted), len(places_sorted)))\n",
    "for i, row in synth_fdf.iterrows():\n",
    "    o = id_place_dict[int(row['origin'])]; d = id_place_dict[int(row['destination'])]; f = row['flow']\n",
    "    odm_2d[places_sorted.index(o), places_sorted.index(d)] = f\n",
    "\n",
    "for i, row in synth_fdf_fitted.iterrows():\n",
    "    o = id_place_dict[int(row['origin'])]; d = id_place_dict[int(row['destination'])]; f = row['flow']\n",
    "    odm_2d_fitted[places_sorted.index(o), places_sorted.index(d)] = f\n"
   ]
  },
  {
   "cell_type": "code",
   "execution_count": 16,
   "metadata": {},
   "outputs": [
    {
     "data": {
      "text/plain": [
       "<matplotlib.collections.PathCollection at 0x181e3e0e610>"
      ]
     },
     "execution_count": 16,
     "metadata": {},
     "output_type": "execute_result"
    },
    {
     "data": {
      "image/png": "[encoded data removed]",
      "text/plain": [
       "<Figure size 1500x500 with 3 Axes>"
      ]
     },
     "metadata": {},
     "output_type": "display_data"
    }
   ],
   "source": [
    "#Plot the scatter plot of origin-destination flows: fitted, gravity, and real\n",
    "od_pairs = [(o, d) for o in tessellation_16['tile_ID'] for d in tessellation_16['tile_ID'] if o != d]\n",
    "fig, ax = plt.subplots(1, 3, figsize=(15, 5))\n",
    "ax[0].scatter(fdf['origin'], fdf['destination'], c='blue', edgecolors='k', s=50, alpha=0.6, label='Real flows')"
   ]
  }
 ],
 "metadata": {
  "kernelspec": {
   "display_name": "Python 3",
   "language": "python",
   "name": "python3"
  },
  "language_info": {
   "codemirror_mode": {
    "name": "ipython",
    "version": 3
   },
   "file_extension": ".py",
   "mimetype": "text/x-python",
   "name": "python",
   "nbconvert_exporter": "python",
   "pygments_lexer": "ipython3",
   "version": "3.9.1"
  }
 },
 "nbformat": 4,
 "nbformat_minor": 2
}
