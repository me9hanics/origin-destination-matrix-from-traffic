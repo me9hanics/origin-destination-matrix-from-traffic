{
 "cells": [
  {
   "cell_type": "markdown",
   "metadata": {},
   "source": [
    "Origin-destination matrices comparisons"
   ]
  },
  {
   "cell_type": "markdown",
   "metadata": {},
   "source": [
    "## KSH measures"
   ]
  },
  {
   "cell_type": "code",
   "execution_count": 2,
   "metadata": {},
   "outputs": [],
   "source": [
    "import pandas as pd\n",
    "import geopandas as gpd\n",
    "import numpy as np\n",
    "import matplotlib.pyplot as plt"
   ]
  },
  {
   "cell_type": "code",
   "execution_count": 7,
   "metadata": {},
   "outputs": [],
   "source": [
    "ksh_stats = pd.read_csv(\"data/sources/KSH/KSHSettlList_settlID_settlname_pop_lat_lon.csv\")\n",
    "ksh_flows = pd.read_csv(\"data/sources/KSH/flows_16_cities.csv\")\n",
    "cities = ['Budapest', 'Kecskemét', 'Szeged', 'Szolnok', 'Debrecen', 'Nyíregyháza', 'Miskolc', 'Dunaújváros', 'Szekszárd', 'Pécs', 'Székesfehérvár', 'Siófok', 'Győr', 'Sopron', 'Szombathely', 'Veszprém']\n",
    "\n",
    "def replace_letters(s):\n",
    "    return s.replace(\"õ\", \"ő\").replace(\"Õ\", \"Ő\").replace(\"û\", \"ű\").replace(\"Û\", \"Ű\")\n",
    "#non_english_letters = r'[^a-zA-Z]'; non_hungarian_letters = r'[^a-zA-ZáéíóöőúüűÁÉÍÓÖŐÚÜŰ]'\n",
    "#non_hungarian = ksh_stats['Settlement_Name'].str.contains(non_hungarian_str, regex=True)\n",
    "ksh_stats['Settlement_Name'] = ksh_stats['Settlement_Name'].apply(replace_letters)"
   ]
  }
 ],
 "metadata": {
  "kernelspec": {
   "display_name": "Python 3",
   "language": "python",
   "name": "python3"
  },
  "language_info": {
   "codemirror_mode": {
    "name": "ipython",
    "version": 3
   },
   "file_extension": ".py",
   "mimetype": "text/x-python",
   "name": "python",
   "nbconvert_exporter": "python",
   "pygments_lexer": "ipython3",
   "version": "3.10.11"
  }
 },
 "nbformat": 4,
 "nbformat_minor": 2
}
