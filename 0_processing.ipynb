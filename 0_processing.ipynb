{
 "cells": [
  {
   "cell_type": "markdown",
   "metadata": {},
   "source": [
    "## Initial steps"
   ]
  },
  {
   "cell_type": "code",
   "execution_count": 1,
   "metadata": {},
   "outputs": [],
   "source": [
    "import map_functions\n",
    "\n",
    "import geopandas as gpd\n",
    "import pandas as pd\n",
    "import matplotlib.pyplot as plt\n",
    "import numpy as np\n",
    "\n",
    "gdf = gpd.read_file(\"data/sources/Hungary_2022_static_road_data.geojson\")"
   ]
  },
  {
   "cell_type": "code",
   "execution_count": 2,
   "metadata": {},
   "outputs": [],
   "source": [
    "gdf_filled = gdf.replace([np.nan], [None])"
   ]
  },
  {
   "cell_type": "markdown",
   "metadata": {},
   "source": [
    "## Combining roads: based on kszam (name)"
   ]
  },
  {
   "cell_type": "markdown",
   "metadata": {},
   "source": [
    "Functions included in `map_functions.py`"
   ]
  },
  {
   "cell_type": "code",
   "execution_count": 3,
   "metadata": {},
   "outputs": [],
   "source": [
    "gdf_new = map_functions.combine_roads_total_simple(gdf)"
   ]
  },
  {
   "cell_type": "code",
   "execution_count": 4,
   "metadata": {},
   "outputs": [
    {
     "data": {
      "text/html": [
       "<div>\n",
       "<style scoped>\n",
       "    .dataframe tbody tr th:only-of-type {\n",
       "        vertical-align: middle;\n",
       "    }\n",
       "\n",
       "    .dataframe tbody tr th {\n",
       "        vertical-align: top;\n",
       "    }\n",
       "\n",
       "    .dataframe thead th {\n",
       "        text-align: right;\n",
       "    }\n",
       "</style>\n",
       "<table border=\"1\" class=\"dataframe\">\n",
       "  <thead>\n",
       "    <tr style=\"text-align: right;\">\n",
       "      <th></th>\n",
       "      <th>kszam</th>\n",
       "      <th>min_traffic</th>\n",
       "      <th>min_5_traffic</th>\n",
       "      <th>max_traffic</th>\n",
       "      <th>max_5_traffic</th>\n",
       "      <th>avg_traffic</th>\n",
       "      <th>geometry</th>\n",
       "      <th>data_df</th>\n",
       "      <th>data_json</th>\n",
       "    </tr>\n",
       "  </thead>\n",
       "  <tbody>\n",
       "    <tr>\n",
       "      <th>0</th>\n",
       "      <td>M43</td>\n",
       "      <td>20728</td>\n",
       "      <td>20728</td>\n",
       "      <td>37030</td>\n",
       "      <td>34512</td>\n",
       "      <td>27256.641509</td>\n",
       "      <td>MULTILINESTRING ((731774.360 106214.871, 73205...</td>\n",
       "      <td>id kszam pkod    kszelv    vszelv   ...</td>\n",
       "      <td>{\"type\": \"FeatureCollection\", \"features\": [{\"i...</td>\n",
       "    </tr>\n",
       "    <tr>\n",
       "      <th>1</th>\n",
       "      <td>M4</td>\n",
       "      <td>3718</td>\n",
       "      <td>3718</td>\n",
       "      <td>57443</td>\n",
       "      <td>39233</td>\n",
       "      <td>20643.589744</td>\n",
       "      <td>MULTILINESTRING ((848187.895 212117.248, 84819...</td>\n",
       "      <td>id kszam pkod     kszelv     vszelv    ...</td>\n",
       "      <td>{\"type\": \"FeatureCollection\", \"features\": [{\"i...</td>\n",
       "    </tr>\n",
       "    <tr>\n",
       "      <th>2</th>\n",
       "      <td>M35</td>\n",
       "      <td>10875</td>\n",
       "      <td>10875</td>\n",
       "      <td>19402</td>\n",
       "      <td>18800</td>\n",
       "      <td>15349.763636</td>\n",
       "      <td>MULTILINESTRING ((835825.477 255049.021, 83584...</td>\n",
       "      <td>id kszam pkod    kszelv    vszelv     ...</td>\n",
       "      <td>{\"type\": \"FeatureCollection\", \"features\": [{\"i...</td>\n",
       "    </tr>\n",
       "    <tr>\n",
       "      <th>3</th>\n",
       "      <td>M15</td>\n",
       "      <td>21871</td>\n",
       "      <td>26100</td>\n",
       "      <td>28451</td>\n",
       "      <td>28451</td>\n",
       "      <td>26436.523810</td>\n",
       "      <td>MULTILINESTRING ((510618.213 297665.117, 51055...</td>\n",
       "      <td>id kszam pkod    kszelv    vszelv     ...</td>\n",
       "      <td>{\"type\": \"FeatureCollection\", \"features\": [{\"i...</td>\n",
       "    </tr>\n",
       "    <tr>\n",
       "      <th>4</th>\n",
       "      <td>M44</td>\n",
       "      <td>8115</td>\n",
       "      <td>8851</td>\n",
       "      <td>9583</td>\n",
       "      <td>9583</td>\n",
       "      <td>9211.729167</td>\n",
       "      <td>MULTILINESTRING ((800011.635 153748.361, 80293...</td>\n",
       "      <td>id kszam pkod     kszelv     vszelv   ...</td>\n",
       "      <td>{\"type\": \"FeatureCollection\", \"features\": [{\"i...</td>\n",
       "    </tr>\n",
       "    <tr>\n",
       "      <th>...</th>\n",
       "      <td>...</td>\n",
       "      <td>...</td>\n",
       "      <td>...</td>\n",
       "      <td>...</td>\n",
       "      <td>...</td>\n",
       "      <td>...</td>\n",
       "      <td>...</td>\n",
       "      <td>...</td>\n",
       "      <td>...</td>\n",
       "    </tr>\n",
       "    <tr>\n",
       "      <th>3341</th>\n",
       "      <td>M8</td>\n",
       "      <td>7144</td>\n",
       "      <td>7144</td>\n",
       "      <td>13185</td>\n",
       "      <td>13185</td>\n",
       "      <td>10596.000000</td>\n",
       "      <td>MULTILINESTRING ((637084.268 175766.926, 63722...</td>\n",
       "      <td>id kszam pkod    kszelv    vszelv   ...</td>\n",
       "      <td>{\"type\": \"FeatureCollection\", \"features\": [{\"i...</td>\n",
       "    </tr>\n",
       "    <tr>\n",
       "      <th>3342</th>\n",
       "      <td>M80</td>\n",
       "      <td>4712</td>\n",
       "      <td>5128</td>\n",
       "      <td>5828</td>\n",
       "      <td>5494</td>\n",
       "      <td>5358.944444</td>\n",
       "      <td>MULTILINESTRING ((464853.113 189984.635, 46479...</td>\n",
       "      <td>id kszam pkod     kszelv     vszelv  ...</td>\n",
       "      <td>{\"type\": \"FeatureCollection\", \"features\": [{\"i...</td>\n",
       "    </tr>\n",
       "    <tr>\n",
       "      <th>3343</th>\n",
       "      <td>M9</td>\n",
       "      <td>4849</td>\n",
       "      <td>4849</td>\n",
       "      <td>4849</td>\n",
       "      <td>4849</td>\n",
       "      <td>4849.000000</td>\n",
       "      <td>MULTILINESTRING ((626831.533 115238.519, 62690...</td>\n",
       "      <td>id kszam pkod    kszelv    vszelv   ...</td>\n",
       "      <td>{\"type\": \"FeatureCollection\", \"features\": [{\"i...</td>\n",
       "    </tr>\n",
       "    <tr>\n",
       "      <th>3344</th>\n",
       "      <td>2</td>\n",
       "      <td>5823</td>\n",
       "      <td>8282</td>\n",
       "      <td>35266</td>\n",
       "      <td>35266</td>\n",
       "      <td>17420.816667</td>\n",
       "      <td>MULTILINESTRING ((656911.982 269457.874, 65690...</td>\n",
       "      <td>id kszam pkod    kszelv    vszelv    ...</td>\n",
       "      <td>{\"type\": \"FeatureCollection\", \"features\": [{\"i...</td>\n",
       "    </tr>\n",
       "    <tr>\n",
       "      <th>3345</th>\n",
       "      <td>3</td>\n",
       "      <td>783</td>\n",
       "      <td>783</td>\n",
       "      <td>36717</td>\n",
       "      <td>36717</td>\n",
       "      <td>11761.016736</td>\n",
       "      <td>MULTILINESTRING ((664871.605 243611.458, 66489...</td>\n",
       "      <td>id kszam pkod     kszelv     vszelv ...</td>\n",
       "      <td>{\"type\": \"FeatureCollection\", \"features\": [{\"i...</td>\n",
       "    </tr>\n",
       "  </tbody>\n",
       "</table>\n",
       "<p>593 rows × 9 columns</p>\n",
       "</div>"
      ],
      "text/plain": [
       "     kszam  min_traffic min_5_traffic  max_traffic max_5_traffic  \\\n",
       "0      M43        20728         20728        37030         34512   \n",
       "1       M4         3718          3718        57443         39233   \n",
       "2      M35        10875         10875        19402         18800   \n",
       "3      M15        21871         26100        28451         28451   \n",
       "4      M44         8115          8851         9583          9583   \n",
       "...    ...          ...           ...          ...           ...   \n",
       "3341    M8         7144          7144        13185         13185   \n",
       "3342   M80         4712          5128         5828          5494   \n",
       "3343    M9         4849          4849         4849          4849   \n",
       "3344     2         5823          8282        35266         35266   \n",
       "3345     3          783           783        36717         36717   \n",
       "\n",
       "       avg_traffic                                           geometry  \\\n",
       "0     27256.641509  MULTILINESTRING ((731774.360 106214.871, 73205...   \n",
       "1     20643.589744  MULTILINESTRING ((848187.895 212117.248, 84819...   \n",
       "2     15349.763636  MULTILINESTRING ((835825.477 255049.021, 83584...   \n",
       "3     26436.523810  MULTILINESTRING ((510618.213 297665.117, 51055...   \n",
       "4      9211.729167  MULTILINESTRING ((800011.635 153748.361, 80293...   \n",
       "...            ...                                                ...   \n",
       "3341  10596.000000  MULTILINESTRING ((637084.268 175766.926, 63722...   \n",
       "3342   5358.944444  MULTILINESTRING ((464853.113 189984.635, 46479...   \n",
       "3343   4849.000000  MULTILINESTRING ((626831.533 115238.519, 62690...   \n",
       "3344  17420.816667  MULTILINESTRING ((656911.982 269457.874, 65690...   \n",
       "3345  11761.016736  MULTILINESTRING ((664871.605 243611.458, 66489...   \n",
       "\n",
       "                                                data_df  \\\n",
       "0               id kszam pkod    kszelv    vszelv   ...   \n",
       "1            id kszam pkod     kszelv     vszelv    ...   \n",
       "2             id kszam pkod    kszelv    vszelv     ...   \n",
       "3             id kszam pkod    kszelv    vszelv     ...   \n",
       "4             id kszam pkod     kszelv     vszelv   ...   \n",
       "...                                                 ...   \n",
       "3341            id kszam pkod    kszelv    vszelv   ...   \n",
       "3342           id kszam pkod     kszelv     vszelv  ...   \n",
       "3343            id kszam pkod    kszelv    vszelv   ...   \n",
       "3344           id kszam pkod    kszelv    vszelv    ...   \n",
       "3345            id kszam pkod     kszelv     vszelv ...   \n",
       "\n",
       "                                              data_json  \n",
       "0     {\"type\": \"FeatureCollection\", \"features\": [{\"i...  \n",
       "1     {\"type\": \"FeatureCollection\", \"features\": [{\"i...  \n",
       "2     {\"type\": \"FeatureCollection\", \"features\": [{\"i...  \n",
       "3     {\"type\": \"FeatureCollection\", \"features\": [{\"i...  \n",
       "4     {\"type\": \"FeatureCollection\", \"features\": [{\"i...  \n",
       "...                                                 ...  \n",
       "3341  {\"type\": \"FeatureCollection\", \"features\": [{\"i...  \n",
       "3342  {\"type\": \"FeatureCollection\", \"features\": [{\"i...  \n",
       "3343  {\"type\": \"FeatureCollection\", \"features\": [{\"i...  \n",
       "3344  {\"type\": \"FeatureCollection\", \"features\": [{\"i...  \n",
       "3345  {\"type\": \"FeatureCollection\", \"features\": [{\"i...  \n",
       "\n",
       "[593 rows x 9 columns]"
      ]
     },
     "execution_count": 4,
     "metadata": {},
     "output_type": "execute_result"
    }
   ],
   "source": [
    "gdf_new[~gdf_new['min_5_traffic'].isna()]"
   ]
  },
  {
   "cell_type": "markdown",
   "metadata": {},
   "source": [
    "## Reordering roads based on chaining roads together"
   ]
  },
  {
   "cell_type": "code",
   "execution_count": 5,
   "metadata": {},
   "outputs": [
    {
     "name": "stderr",
     "output_type": "stream",
     "text": [
      "c:\\GitHubRepo\\origin-destination-matrix-from-traffic\\map_functions.py:183: FutureWarning: The behavior of DataFrame concatenation with empty or all-NA entries is deprecated. In a future version, this will no longer exclude empty or all-NA columns when determining the result dtypes. To retain the old behavior, exclude the relevant entries before the concat operation.\n",
      "  gdf_reordered = pd.concat([gdf_reordered, gdf_group], ignore_index=True)\n"
     ]
    }
   ],
   "source": [
    "gdf_reordered = map_functions.reorder_full_gdf_groupindexed(gdf)"
   ]
  },
  {
   "cell_type": "markdown",
   "metadata": {},
   "source": [
    "We get less roads as a result, because we exclude pkod '2' roads. <br>"
   ]
  },
  {
   "cell_type": "code",
   "execution_count": 6,
   "metadata": {},
   "outputs": [],
   "source": [
    "#Let's create a dict: key would be the road name (kszam), whereas value would be the ordered list of road segments, with their Series values\n",
    "\n",
    "roads_ordered = map_functions.create_ordered_roads_json(gdf)"
   ]
  },
  {
   "cell_type": "code",
   "execution_count": 9,
   "metadata": {},
   "outputs": [
    {
     "data": {
      "text/plain": [
       "((50, 130), (50, 130))"
      ]
     },
     "execution_count": 9,
     "metadata": {},
     "output_type": "execute_result"
    }
   ],
   "source": [
    "(len(roads_ordered['3'][0]), len(roads_ordered['3'][1])), (len(gdf_reordered[(gdf_reordered['kszam']=='3') & (gdf_reordered['group']==0)]), len(gdf_reordered[(gdf_reordered['kszam']=='3') & (gdf_reordered['group']==1)]))"
   ]
  },
  {
   "cell_type": "code",
   "execution_count": null,
   "metadata": {},
   "outputs": [],
   "source": [
    "import json\n",
    "import geojson\n",
    "\n",
    "with open('data/Hungary_roads_ordered.geojson', 'w', encoding='utf-8') as f:\n",
    "    geojson.dump(roads_ordered, f, ensure_ascii=False, indent=1)\n"
   ]
  },
  {
   "cell_type": "markdown",
   "metadata": {},
   "source": [
    "## Plot roads nearby a place"
   ]
  },
  {
   "cell_type": "code",
   "execution_count": 1,
   "metadata": {},
   "outputs": [],
   "source": [
    "import folium\n",
    "#folium.Map(location=(47.130884, 16.621046))"
   ]
  }
 ],
 "metadata": {
  "kernelspec": {
   "display_name": "Python 3",
   "language": "python",
   "name": "python3"
  },
  "language_info": {
   "codemirror_mode": {
    "name": "ipython",
    "version": 3
   },
   "file_extension": ".py",
   "mimetype": "text/x-python",
   "name": "python",
   "nbconvert_exporter": "python",
   "pygments_lexer": "ipython3",
   "version": "3.10.11"
  }
 },
 "nbformat": 4,
 "nbformat_minor": 2
}
